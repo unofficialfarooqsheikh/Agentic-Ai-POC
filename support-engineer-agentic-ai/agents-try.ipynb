{
 "cells": [
  {
   "cell_type": "code",
   "execution_count": 12,
   "id": "3d419a5a",
   "metadata": {},
   "outputs": [],
   "source": [
    "from agents import Agent, Runner, OpenAIChatCompletionsModel, function_tool\n",
    "from dotenv import load_dotenv\n",
    "from openai import AsyncOpenAI\n",
    "import os\n",
    "import requests\n",
    "import nest_asyncio\n",
    "import asyncio"
   ]
  },
  {
   "cell_type": "code",
   "execution_count": 13,
   "id": "3c381366",
   "metadata": {},
   "outputs": [],
   "source": [
    "load_dotenv(override=True)\n",
    "nest_asyncio.apply()"
   ]
  },
  {
   "cell_type": "code",
   "execution_count": 7,
   "id": "4fd384f8",
   "metadata": {},
   "outputs": [],
   "source": [
    "GOOGLE_API_URL = \"https://generativelanguage.googleapis.com/v1beta/openai/\"\n",
    "GOOGLE_API_KEY = os.getenv(\"GEMINI_API_KEY\")\n",
    "google_api_client = AsyncOpenAI(base_url=GOOGLE_API_URL, api_key=GOOGLE_API_KEY)\n",
    "google_api_model = OpenAIChatCompletionsModel(model=\"gemini-2.0-flash\", openai_client=google_api_client)"
   ]
  },
  {
   "cell_type": "code",
   "execution_count": 9,
   "id": "4a92b980",
   "metadata": {},
   "outputs": [],
   "source": [
    "@function_tool\n",
    "def get_logs():\n",
    "    \"\"\"\n",
    "    Fetches logs from the local server running at http://localhost:30007/logs.\n",
    "\n",
    "    Returns:\n",
    "        str: The logs retrieved from the server as plain text.\n",
    "    \"\"\"\n",
    "    response = requests.get(\"http://localhost:30007/logs\")\n",
    "    return response.text"
   ]
  },
  {
   "cell_type": "code",
   "execution_count": 18,
   "id": "7e9b3341",
   "metadata": {},
   "outputs": [],
   "source": [
    "instructions_for_support_engineer = \"You are a Support engineer, very keen in observing issues, \\\n",
    "reading logs and giving the right fix, you can get logs form the get_logs tool to get the logs, \\\n",
    "ignore the warnings and concentrate only on the errors, \\\n",
    "and also check for logs in sequential manner, do not give same error different solutions, read whole of the log\"\n",
    "# + \"you use the file writing tool to paste the a solution in it,\""
   ]
  },
  {
   "cell_type": "code",
   "execution_count": 19,
   "id": "608dffb0",
   "metadata": {},
   "outputs": [
    {
     "name": "stdout",
     "output_type": "stream",
     "text": [
      "Okay, I have reviewed the logs. Here's what I found:\n",
      "\n",
      "*   **Warning:** The server is running in development mode. This is not suitable for production environments.\n",
      "*   **404 Error:** A request to `/fail` resulted in a 404 Not Found error. This means the requested resource does not exist on the server.\n",
      "*   **500 Error:** A request to `/feature_1` resulted in a 500 Internal Server Error. This indicates a server-side issue. Looking at the traceback, it seems the error originates from a division by zero (`ZeroDivisionError`) within the `fail` function, which then raises a `Simulated error for testing` exception.\n",
      "\n",
      "**Solutions:**\n",
      "\n",
      "*   **404 Error:** If the `/fail` route is intended to exist, you need to define it in your application code (e.g., using `@app.route('/fail')` in Flask). If it's not meant to be a valid route, then the client (whoever is sending the request) should stop requesting it.\n",
      "*   **500 Error:**\n",
      "    *   The root cause is the division by zero in the `fail` function. You should avoid dividing by zero in your code. Add a condition to check if the denominator is zero before performing the division.\n",
      "    *   The code then raises a `Simulated error for testing`. Remove this line or handle the exception more gracefully (e.g., return an error message to the client) in a production environment.\n",
      "*   **Development Server Warning:** For a production deployment, switch to a production-ready WSGI server like Gunicorn or uWSGI.\n",
      "\n",
      "\n"
     ]
    }
   ],
   "source": [
    "agent = Agent(\n",
    "            name=\"Assistant\", \n",
    "            instructions=\"You are a helpful assistant\", \n",
    "            model=google_api_model,\n",
    "            tools=[get_logs]\n",
    "        )\n",
    "\n",
    "result = await Runner.run(agent, \"get the logs and give solution if any errors are seen\")\n",
    "print(result.final_output)"
   ]
  }
 ],
 "metadata": {
  "kernelspec": {
   "display_name": "venv",
   "language": "python",
   "name": "python3"
  },
  "language_info": {
   "codemirror_mode": {
    "name": "ipython",
    "version": 3
   },
   "file_extension": ".py",
   "mimetype": "text/x-python",
   "name": "python",
   "nbconvert_exporter": "python",
   "pygments_lexer": "ipython3",
   "version": "3.13.5"
  }
 },
 "nbformat": 4,
 "nbformat_minor": 5
}
